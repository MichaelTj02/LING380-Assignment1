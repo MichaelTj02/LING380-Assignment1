{
 "cells": [
  {
   "cell_type": "markdown",
   "metadata": {},
   "source": [
    "| Name (Last, First) | Student ID  | Section contributed                     | Section edited     | Other contributions                     |\n",
    "|--------------------|------------|------------------------------------------|--------------------|-----------------------------------------|\n",
    "| Tjokrowardojo, Michael      | 301416843   | Data collection, GitHub syncing         | Code and write-up | Troubleshoot spaCy                     |\n",
    "| Ng, Ryan     | 3014423701   | Function for most frequent words        | Code              | Communication and task coordination    |\n"
   ]
  },
  {
   "cell_type": "markdown",
   "metadata": {},
   "source": [
    "# Dataset Selection and Cleaning"
   ]
  }
 ],
 "metadata": {
  "language_info": {
   "name": "python"
  }
 },
 "nbformat": 4,
 "nbformat_minor": 2
}
